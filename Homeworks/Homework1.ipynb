{
 "cells": [
  {
   "cell_type": "markdown",
   "metadata": {},
   "source": [
    "# Homework 1\n",
    "\n",
    "1) How would you define Machine Learning?\n",
    "Makine öğrenmesi, input ve output verilerini kullanarak bunlar arasındaki en uygun ilişkiyi bulmayı amaç edinen yapay zekanın alt dallarından biridir.\n",
    "\n",
    "2) What are the differences between Supervised and Unsupervised Learning? Specify example 3 algorithms for each of these.\n",
    "Gözetimli öğrenmede outputların labeli bellidir, algoritma labeled data ile eğitilir, gözetimsiz öğrenmeye nazaran daha basit yöntemler kullanılır. Gözetimsiz öğrenmede ise tüm data input olarak kullanılır ve herhangi bir labele bağlı olmadan kendi içinde bölümlenir.\n",
    "Gözetimli öğrenmede, support vector machine, classification trees ve logistic regression algoritmaları kullanılabilir.\n",
    "Gözetimsiz öğrenmede ise, Cluster algorithms, K-means ve Hierarchical clustering algoritmaları kullanılabilir.\n",
    "\n",
    "3) What are the test and validation set, and why would you want to use them?\n",
    "  Validation datasetler train datasetlerinin belli bir bölümünü oluşturur. Amaçları veri eğitilirken kullanılacak olan modelin soruna uygun olup olmadığını eğitirken ölçmek ve uygunsa bu modele en uygun olan hyperparametrelerin belirlenmesini sağlamaktır. Fakat validation datasetler bazen doğru dağılmamış olabilir. Bu durumda cross validation uygulanır. Train dataset belirlenen sayı kadar parçaya ayrılır ve her bir parça ayrı eğitilir. \n",
    "  Test datasetlerin amacı ise model eğitimi tamamlandığında ona hiç görmediği veriler ile test etmek ve hataları ölçmektir. Test verisinin hataları, eğitimde ölçülen hatadan çok büyük çıkarsa bu durum overfittingin olduğunu gösterir. Yani oluşturulan model train datasetini ezberlemiş ve real life verilerine uygun çalışamaz.\n",
    "  \n",
    "4) What are the main preprocessing steps? Explain them in detail. Why we need to prepare our data?\n",
    "\n",
    "1- Kütüphaneleri import etmek\n",
    "2- Kullanılcak dataseti belirlemek ve import etmek\n",
    "3- Duplicated değerleri bulup kaldırmak\n",
    "4- Missing valueları belirlemek ve ya onları datasetten kaldırmak ya da onları medyan veya ortalama değer ile yer değiştirmek\n",
    "5- Categorical dataları label encoding veya one hot encoding yapmak.\n",
    "6- Outlier leri bulmak ve kaldırmak. Outlier datadan ayrık ve modeli yanıltabilecek verilerdir.\n",
    "7- Dataseti train ve test sete ayırmak. Train test split methodu kullanılabilir.\n",
    "8- Imbalanced datayı undersampling, oversampling gibi yöntemler ile işlemek. Bu yöntem sayesinde dengesiz olan data ya arttırılır ya da azaltılır.\n",
    "9- Featureleri scale etme.\n",
    "\n",
    "5) How you can explore countionus and discrete variables?\n",
    "  Discrete variableler değerleri sayılarak elde edilen değişkenlerdir. Örnek olarak öğrencilerin notları ve kavanozdaki ceviz sayısı verilebilir. Continous variableler ise değerleri ölçülerek elde edilen değişkenlerdir. Örnek olarak sınıftaki öğrencilerin boyları, sınıflar arasında gidilen mesafe verilebilir.\n",
    "  \n",
    "6) Analyse the plot given below. (What is the plot and variable type, check the distribution and make comment about how you can preproccess it.)\n",
    "\n",
    "  Grafiğin variable tipi continous ve plot tipi de histogramdır ve  distplot ile çizilmiştir. Data 0-1 arasını saymazsak normal dağılmışa benziyor. Outlierleri kaldırmak ile başlarım. daha sonra scaling işlemi uygularım."
   ]
  }
 ],
 "metadata": {
  "kernelspec": {
   "display_name": "Python 3",
   "language": "python",
   "name": "python3"
  },
  "language_info": {
   "codemirror_mode": {
    "name": "ipython",
    "version": 3
   },
   "file_extension": ".py",
   "mimetype": "text/x-python",
   "name": "python",
   "nbconvert_exporter": "python",
   "pygments_lexer": "ipython3",
   "version": "3.8.3"
  }
 },
 "nbformat": 4,
 "nbformat_minor": 4
}
